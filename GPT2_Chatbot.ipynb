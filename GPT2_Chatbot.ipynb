{
 "cells": [
  {
   "cell_type": "code",
   "execution_count": 5,
   "id": "d65dd744-ce9d-42b0-8744-e84a0203c133",
   "metadata": {},
   "outputs": [
    {
     "name": "stderr",
     "output_type": "stream",
     "text": [
      "/home/xluys/Home/XLuys/University/Practica/LLMs/jupyter_env/lib/python3.12/site-packages/transformers/tokenization_utils_base.py:1908: FutureWarning: The `use_auth_token` argument is deprecated and will be removed in v5 of Transformers. Please use `token` instead.\n",
      "  warnings.warn(\n"
     ]
    },
    {
     "data": {
      "application/vnd.jupyter.widget-view+json": {
       "model_id": "4c1fc8b04a894e4e9ed06fd4f0ee56ae",
       "version_major": 2,
       "version_minor": 0
      },
      "text/plain": [
       "tokenizer_config.json:   0%|          | 0.00/26.0 [00:00<?, ?B/s]"
      ]
     },
     "metadata": {},
     "output_type": "display_data"
    },
    {
     "data": {
      "application/vnd.jupyter.widget-view+json": {
       "model_id": "5d7d282fc82647ecb72e81ee2eb25906",
       "version_major": 2,
       "version_minor": 0
      },
      "text/plain": [
       "vocab.json:   0%|          | 0.00/1.04M [00:00<?, ?B/s]"
      ]
     },
     "metadata": {},
     "output_type": "display_data"
    },
    {
     "data": {
      "application/vnd.jupyter.widget-view+json": {
       "model_id": "f6f4dbeb9c244ad7b67000ab318db421",
       "version_major": 2,
       "version_minor": 0
      },
      "text/plain": [
       "merges.txt:   0%|          | 0.00/456k [00:00<?, ?B/s]"
      ]
     },
     "metadata": {},
     "output_type": "display_data"
    },
    {
     "data": {
      "application/vnd.jupyter.widget-view+json": {
       "model_id": "9dbaa952206a422c9625a0feb4ca3d1b",
       "version_major": 2,
       "version_minor": 0
      },
      "text/plain": [
       "tokenizer.json:   0%|          | 0.00/1.36M [00:00<?, ?B/s]"
      ]
     },
     "metadata": {},
     "output_type": "display_data"
    },
    {
     "data": {
      "application/vnd.jupyter.widget-view+json": {
       "model_id": "1affee498adb41ccb9839b1226df8e04",
       "version_major": 2,
       "version_minor": 0
      },
      "text/plain": [
       "config.json:   0%|          | 0.00/665 [00:00<?, ?B/s]"
      ]
     },
     "metadata": {},
     "output_type": "display_data"
    },
    {
     "name": "stderr",
     "output_type": "stream",
     "text": [
      "/home/xluys/Home/XLuys/University/Practica/LLMs/jupyter_env/lib/python3.12/site-packages/transformers/modeling_utils.py:4689: FutureWarning: The `use_auth_token` argument is deprecated and will be removed in v5 of Transformers. Please use `token` instead.\n",
      "  warnings.warn(\n"
     ]
    },
    {
     "data": {
      "application/vnd.jupyter.widget-view+json": {
       "model_id": "0e3b5999faa84109afdf551c7a97cfd7",
       "version_major": 2,
       "version_minor": 0
      },
      "text/plain": [
       "model.safetensors:   0%|          | 0.00/548M [00:00<?, ?B/s]"
      ]
     },
     "metadata": {},
     "output_type": "display_data"
    },
    {
     "data": {
      "application/vnd.jupyter.widget-view+json": {
       "model_id": "27465a559ded48389685ca34f4099258",
       "version_major": 2,
       "version_minor": 0
      },
      "text/plain": [
       "generation_config.json:   0%|          | 0.00/124 [00:00<?, ?B/s]"
      ]
     },
     "metadata": {},
     "output_type": "display_data"
    },
    {
     "name": "stdout",
     "output_type": "stream",
     "text": [
      "Prompt: Where can I find the library hours, student counseling services, or cafeteria menu?\n",
      "Response: Where can I find the library hours, student counseling services, or cafeteria menu?\n",
      "\n",
      "If you are looking to find the library hours, you may want to look for the Library Hour Program at the beginning of your search. The hours may be short or long depending on the day of the week and what school you are studying.\n",
      "\n",
      "Prompt: When is the next exam, and do you have any tips or resources to prepare?\n",
      "Response: When is the next exam, and do you have any tips or resources to prepare?\n",
      "\n",
      "How about the other questions?\n",
      "\n",
      "If you want to know how to ask questions in a classroom, take a look at the section on \"Reading, Writing, and Writing.\"\n",
      "\n",
      "If you want to read or write in a group\n",
      "\n",
      "Prompt: Can you tell me the details of the course, like the syllabus, credits, and professor?\n",
      "Response: Can you tell me the details of the course, like the syllabus, credits, and professor?\n",
      "\n",
      "Bryan: Well, the syllabus is a little bit different. I would say the syllabus has the same structure. You have to be familiar with the syllabus. The syllabus is not an encyclopedia, and there's no class\n",
      "\n"
     ]
    }
   ],
   "source": [
    "from transformers import GPT2LMHeadModel, GPT2Tokenizer\n",
    "import torch\n",
    "\n",
    "model_id = \"gpt2\"\n",
    "token = \"token\"\n",
    "\n",
    "tokenizer = GPT2Tokenizer.from_pretrained(model_id, use_auth_token=token)\n",
    "model = GPT2LMHeadModel.from_pretrained(model_id, use_auth_token=token)\n",
    "\n",
    "prompts = [\n",
    "    \"Where can I find the library hours, student counseling services, or cafeteria menu?\",\n",
    "    \"When is the next exam, and do you have any tips or resources to prepare?\",\n",
    "    \"Can you tell me the details of the course, like the syllabus, credits, and professor?\"\n",
    "]\n",
    "\n",
    "for prompt in prompts:\n",
    "    inputs = tokenizer(prompt, return_tensors=\"pt\")\n",
    "    outputs = model.generate(\n",
    "        **inputs,\n",
    "        max_new_tokens=50,\n",
    "        do_sample=True,\n",
    "        temperature=0.8,\n",
    "        top_k=40,\n",
    "        top_p=0.9,\n",
    "        pad_token_id=tokenizer.eos_token_id\n",
    "    )\n",
    "    generated_text = tokenizer.decode(outputs[0], skip_special_tokens=True)\n",
    "    print(f\"Prompt: {prompt}\")\n",
    "    print(f\"Response: {generated_text}\\n\")\n"
   ]
  }
 ],
 "metadata": {
  "kernelspec": {
   "display_name": "Python 3 (ipykernel)",
   "language": "python",
   "name": "python3"
  },
  "language_info": {
   "codemirror_mode": {
    "name": "ipython",
    "version": 3
   },
   "file_extension": ".py",
   "mimetype": "text/x-python",
   "name": "python",
   "nbconvert_exporter": "python",
   "pygments_lexer": "ipython3",
   "version": "3.12.3"
  }
 },
 "nbformat": 4,
 "nbformat_minor": 5
}
